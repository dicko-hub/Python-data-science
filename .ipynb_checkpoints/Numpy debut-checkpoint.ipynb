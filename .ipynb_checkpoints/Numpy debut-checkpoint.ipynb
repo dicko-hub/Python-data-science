{
 "cells": [
  {
   "cell_type": "markdown",
   "metadata": {},
   "source": [
    "### Cas pratique"
   ]
  },
  {
   "cell_type": "code",
   "execution_count": 1,
   "metadata": {},
   "outputs": [],
   "source": [
    "import numpy as np"
   ]
  },
  {
   "cell_type": "code",
   "execution_count": 66,
   "metadata": {},
   "outputs": [],
   "source": [
    "vector = np.array(['10','20','30']).astype(int)"
   ]
  },
  {
   "cell_type": "code",
   "execution_count": 3,
   "metadata": {},
   "outputs": [],
   "source": [
    "matrix = np.array([[5,10,15],[20,25,30],[35,40,45]])"
   ]
  },
  {
   "cell_type": "code",
   "execution_count": 67,
   "metadata": {},
   "outputs": [
    {
     "data": {
      "text/plain": [
       "array([10, 20, 30])"
      ]
     },
     "execution_count": 67,
     "metadata": {},
     "output_type": "execute_result"
    }
   ],
   "source": [
    "vector"
   ]
  },
  {
   "cell_type": "code",
   "execution_count": 5,
   "metadata": {},
   "outputs": [
    {
     "data": {
      "text/plain": [
       "array([[ 5, 10, 15],\n",
       "       [20, 25, 30],\n",
       "       [35, 40, 45]])"
      ]
     },
     "execution_count": 5,
     "metadata": {},
     "output_type": "execute_result"
    }
   ],
   "source": [
    "matrix"
   ]
  },
  {
   "cell_type": "code",
   "execution_count": 6,
   "metadata": {},
   "outputs": [],
   "source": [
    "vector_shape = vector.shape"
   ]
  },
  {
   "cell_type": "code",
   "execution_count": 7,
   "metadata": {},
   "outputs": [],
   "source": [
    "matrix_shape = matrix.shape"
   ]
  },
  {
   "cell_type": "code",
   "execution_count": 8,
   "metadata": {},
   "outputs": [
    {
     "data": {
      "text/plain": [
       "(3,)"
      ]
     },
     "execution_count": 8,
     "metadata": {},
     "output_type": "execute_result"
    }
   ],
   "source": [
    "vector_shape"
   ]
  },
  {
   "cell_type": "code",
   "execution_count": 9,
   "metadata": {},
   "outputs": [
    {
     "data": {
      "text/plain": [
       "(3, 3)"
      ]
     },
     "execution_count": 9,
     "metadata": {},
     "output_type": "execute_result"
    }
   ],
   "source": [
    "matrix_shape"
   ]
  },
  {
   "cell_type": "markdown",
   "metadata": {},
   "source": [
    "## Lire un dataset"
   ]
  },
  {
   "cell_type": "code",
   "execution_count": 10,
   "metadata": {},
   "outputs": [
    {
     "name": "stdout",
     "output_type": "stream",
     "text": [
      "<class 'numpy.ndarray'>\n"
     ]
    }
   ],
   "source": [
    "world_alcohol = np.genfromtxt('world_alcohol.csv', delimiter =',')\n",
    "print(type(world_alcohol))"
   ]
  },
  {
   "cell_type": "code",
   "execution_count": 11,
   "metadata": {},
   "outputs": [
    {
     "data": {
      "text/plain": [
       "dtype('float64')"
      ]
     },
     "execution_count": 11,
     "metadata": {},
     "output_type": "execute_result"
    }
   ],
   "source": [
    "world_alcohol.dtype"
   ]
  },
  {
   "cell_type": "code",
   "execution_count": 12,
   "metadata": {},
   "outputs": [
    {
     "data": {
      "text/plain": [
       "array([['Year', 'WHO region', 'Country', 'Beverage Types',\n",
       "        'Display Value'],\n",
       "       ['1986', 'Western Pacific', 'Viet Nam', 'Wine', '0'],\n",
       "       ['1986', 'Americas', 'Uruguay', 'Other', '0.5'],\n",
       "       ...,\n",
       "       ['1986', 'Europe', 'Switzerland', 'Spirits', '2.54'],\n",
       "       ['1987', 'Western Pacific', 'Papua New Guinea', 'Other', '0'],\n",
       "       ['1986', 'Africa', 'Swaziland', 'Other', '5.15']], dtype='<U75')"
      ]
     },
     "execution_count": 12,
     "metadata": {},
     "output_type": "execute_result"
    }
   ],
   "source": [
    "world_alcohol = np.genfromtxt('world_alcohol.csv', delimiter =',', dtype = 'U75')\n",
    "world_alcohol"
   ]
  },
  {
   "cell_type": "code",
   "execution_count": 13,
   "metadata": {},
   "outputs": [
    {
     "data": {
      "text/plain": [
       "array([['1986', 'Western Pacific', 'Viet Nam', 'Wine', '0'],\n",
       "       ['1986', 'Americas', 'Uruguay', 'Other', '0.5'],\n",
       "       ['1985', 'Africa', \"Cte d'Ivoire\", 'Wine', '1.62'],\n",
       "       ...,\n",
       "       ['1986', 'Europe', 'Switzerland', 'Spirits', '2.54'],\n",
       "       ['1987', 'Western Pacific', 'Papua New Guinea', 'Other', '0'],\n",
       "       ['1986', 'Africa', 'Swaziland', 'Other', '5.15']], dtype='<U75')"
      ]
     },
     "execution_count": 13,
     "metadata": {},
     "output_type": "execute_result"
    }
   ],
   "source": [
    "world_alcohol = np.genfromtxt('world_alcohol.csv', delimiter =',', dtype = 'U75', skip_header = 1)\n",
    "world_alcohol"
   ]
  },
  {
   "cell_type": "markdown",
   "metadata": {},
   "source": [
    "### extraction de données"
   ]
  },
  {
   "cell_type": "code",
   "execution_count": 14,
   "metadata": {},
   "outputs": [
    {
     "data": {
      "text/plain": [
       "'1.62'"
      ]
     },
     "execution_count": 14,
     "metadata": {},
     "output_type": "execute_result"
    }
   ],
   "source": [
    "ivoire_1985 = world_alcohol[2,4]\n",
    "ivoire_1985"
   ]
  },
  {
   "cell_type": "code",
   "execution_count": 15,
   "metadata": {},
   "outputs": [
    {
     "data": {
      "text/plain": [
       "'Uruguay'"
      ]
     },
     "execution_count": 15,
     "metadata": {},
     "output_type": "execute_result"
    }
   ],
   "source": [
    "second_contry = world_alcohol[1,2]\n",
    "second_contry"
   ]
  },
  {
   "cell_type": "code",
   "execution_count": 16,
   "metadata": {},
   "outputs": [
    {
     "data": {
      "text/plain": [
       "array(['Viet Nam', 'Uruguay', \"Cte d'Ivoire\", ..., 'Switzerland',\n",
       "       'Papua New Guinea', 'Swaziland'], dtype='<U75')"
      ]
     },
     "execution_count": 16,
     "metadata": {},
     "output_type": "execute_result"
    }
   ],
   "source": [
    "contries = world_alcohol[:,2]\n",
    "contries"
   ]
  },
  {
   "cell_type": "code",
   "execution_count": 17,
   "metadata": {},
   "outputs": [
    {
     "data": {
      "text/plain": [
       "array(['0', '0.5', '1.62', ..., '2.54', '0', '5.15'], dtype='<U75')"
      ]
     },
     "execution_count": 17,
     "metadata": {},
     "output_type": "execute_result"
    }
   ],
   "source": [
    "alcohol_consumption = world_alcohol[:,4]\n",
    "alcohol_consumption"
   ]
  },
  {
   "cell_type": "code",
   "execution_count": 18,
   "metadata": {},
   "outputs": [
    {
     "data": {
      "text/plain": [
       "array([['1986', 'Western Pacific'],\n",
       "       ['1986', 'Americas'],\n",
       "       ['1985', 'Africa'],\n",
       "       ...,\n",
       "       ['1986', 'Europe'],\n",
       "       ['1987', 'Western Pacific'],\n",
       "       ['1986', 'Africa']], dtype='<U75')"
      ]
     },
     "execution_count": 18,
     "metadata": {},
     "output_type": "execute_result"
    }
   ],
   "source": [
    "first_two_colums = world_alcohol[:,0:2]\n",
    "first_two_colums"
   ]
  },
  {
   "cell_type": "code",
   "execution_count": 19,
   "metadata": {},
   "outputs": [
    {
     "data": {
      "text/plain": [
       "array(['1986', '1986', '1985', '1986', '1987', '1987', '1987', '1985',\n",
       "       '1986', '1984'], dtype='<U75')"
      ]
     },
     "execution_count": 19,
     "metadata": {},
     "output_type": "execute_result"
    }
   ],
   "source": [
    "first_ten_years = world_alcohol[0:10,0]\n",
    "first_ten_years"
   ]
  },
  {
   "cell_type": "code",
   "execution_count": 20,
   "metadata": {},
   "outputs": [
    {
     "data": {
      "text/plain": [
       "array([['1986', 'Western Pacific', 'Viet Nam', 'Wine', '0'],\n",
       "       ['1986', 'Americas', 'Uruguay', 'Other', '0.5'],\n",
       "       ['1985', 'Africa', \"Cte d'Ivoire\", 'Wine', '1.62'],\n",
       "       ['1986', 'Americas', 'Colombia', 'Beer', '4.27'],\n",
       "       ['1987', 'Americas', 'Saint Kitts and Nevis', 'Beer', '1.98'],\n",
       "       ['1987', 'Americas', 'Guatemala', 'Other', '0'],\n",
       "       ['1987', 'Africa', 'Mauritius', 'Wine', '0.13'],\n",
       "       ['1985', 'Africa', 'Angola', 'Spirits', '0.39'],\n",
       "       ['1986', 'Americas', 'Antigua and Barbuda', 'Spirits', '1.55'],\n",
       "       ['1984', 'Africa', 'Nigeria', 'Other', '6.1']], dtype='<U75')"
      ]
     },
     "execution_count": 20,
     "metadata": {},
     "output_type": "execute_result"
    }
   ],
   "source": [
    "first_ten_rows = world_alcohol[0:10,:]\n",
    "first_ten_rows"
   ]
  },
  {
   "cell_type": "code",
   "execution_count": 21,
   "metadata": {},
   "outputs": [
    {
     "data": {
      "text/plain": [
       "array([['Western Pacific', 'Viet Nam'],\n",
       "       ['Americas', 'Uruguay'],\n",
       "       ['Africa', \"Cte d'Ivoire\"],\n",
       "       ['Americas', 'Colombia'],\n",
       "       ['Americas', 'Saint Kitts and Nevis'],\n",
       "       ['Americas', 'Guatemala'],\n",
       "       ['Africa', 'Mauritius'],\n",
       "       ['Africa', 'Angola'],\n",
       "       ['Americas', 'Antigua and Barbuda'],\n",
       "       ['Africa', 'Nigeria'],\n",
       "       ['Africa', 'Botswana'],\n",
       "       ['Americas', 'Guatemala'],\n",
       "       ['Western Pacific', \"Lao People's Democratic Republic\"],\n",
       "       ['Eastern Mediterranean', 'Afghanistan'],\n",
       "       ['Western Pacific', 'Viet Nam'],\n",
       "       ['Africa', 'Guinea-Bissau'],\n",
       "       ['Americas', 'Costa Rica'],\n",
       "       ['Africa', 'Seychelles'],\n",
       "       ['Europe', 'Norway'],\n",
       "       ['Africa', 'Kenya']], dtype='<U75')"
      ]
     },
     "execution_count": 21,
     "metadata": {},
     "output_type": "execute_result"
    }
   ],
   "source": [
    "first_twenty_regions = world_alcohol[0:20,1:3]\n",
    "first_twenty_regions"
   ]
  },
  {
   "cell_type": "markdown",
   "metadata": {},
   "source": [
    "### Effectuer des comparaisons"
   ]
  },
  {
   "cell_type": "code",
   "execution_count": 22,
   "metadata": {},
   "outputs": [
    {
     "data": {
      "text/plain": [
       "array([False, False, False, ..., False, False, False])"
      ]
     },
     "execution_count": 22,
     "metadata": {},
     "output_type": "execute_result"
    }
   ],
   "source": [
    "contries_canada = contries == \"Canada\"\n",
    "contries_canada"
   ]
  },
  {
   "cell_type": "code",
   "execution_count": 23,
   "metadata": {},
   "outputs": [
    {
     "data": {
      "text/plain": [
       "array([False, False, False, ..., False, False, False])"
      ]
     },
     "execution_count": 23,
     "metadata": {},
     "output_type": "execute_result"
    }
   ],
   "source": [
    "year_1984 = (world_alcohol[:,0])==\"1984\"\n",
    "year_1984"
   ]
  },
  {
   "cell_type": "markdown",
   "metadata": {},
   "source": [
    "### Selectionner des élements"
   ]
  },
  {
   "cell_type": "code",
   "execution_count": 24,
   "metadata": {},
   "outputs": [
    {
     "data": {
      "text/plain": [
       "array([['1984', 'Africa', 'Algeria', 'Spirits', '0.01'],\n",
       "       ['1987', 'Africa', 'Algeria', 'Beer', '0.17'],\n",
       "       ['1987', 'Africa', 'Algeria', 'Spirits', '0.01'],\n",
       "       ['1986', 'Africa', 'Algeria', 'Wine', '0.1'],\n",
       "       ['1984', 'Africa', 'Algeria', 'Other', '0'],\n",
       "       ['1989', 'Africa', 'Algeria', 'Beer', '0.16'],\n",
       "       ['1989', 'Africa', 'Algeria', 'Spirits', '0.01'],\n",
       "       ['1989', 'Africa', 'Algeria', 'Wine', '0.23'],\n",
       "       ['1986', 'Africa', 'Algeria', 'Spirits', '0.01'],\n",
       "       ['1984', 'Africa', 'Algeria', 'Wine', '0.12'],\n",
       "       ['1985', 'Africa', 'Algeria', 'Beer', '0.19'],\n",
       "       ['1985', 'Africa', 'Algeria', 'Other', '0'],\n",
       "       ['1986', 'Africa', 'Algeria', 'Beer', '0.18'],\n",
       "       ['1985', 'Africa', 'Algeria', 'Wine', '0.11'],\n",
       "       ['1986', 'Africa', 'Algeria', 'Other', '0'],\n",
       "       ['1989', 'Africa', 'Algeria', 'Other', '0'],\n",
       "       ['1987', 'Africa', 'Algeria', 'Other', '0'],\n",
       "       ['1984', 'Africa', 'Algeria', 'Beer', '0.2'],\n",
       "       ['1985', 'Africa', 'Algeria', 'Spirits', '0.01'],\n",
       "       ['1987', 'Africa', 'Algeria', 'Wine', '0.1']], dtype='<U75')"
      ]
     },
     "execution_count": 24,
     "metadata": {},
     "output_type": "execute_result"
    }
   ],
   "source": [
    "contry_is_algeria = (world_alcohol[:,2]) == \"Algeria\"\n",
    "contry_is_algeria \n",
    "contry_algeria = world_alcohol[contry_is_algeria]\n",
    "contry_algeria"
   ]
  },
  {
   "cell_type": "code",
   "execution_count": 25,
   "metadata": {},
   "outputs": [
    {
     "data": {
      "text/plain": [
       "array([['1984', 'Africa', 'Nigeria', 'Other', '6.1'],\n",
       "       ['1984', 'Eastern Mediterranean', 'Afghanistan', 'Other', '0'],\n",
       "       ['1984', 'Americas', 'Costa Rica', 'Wine', '0.06'],\n",
       "       ...,\n",
       "       ['1984', 'Europe', 'Latvia', 'Spirits', '7.5'],\n",
       "       ['1984', 'Africa', 'Angola', 'Wine', '0.57'],\n",
       "       ['1984', 'Africa', 'Central African Republic', 'Wine', '0.46']],\n",
       "      dtype='<U75')"
      ]
     },
     "execution_count": 25,
     "metadata": {},
     "output_type": "execute_result"
    }
   ],
   "source": [
    "years_1984 = (world_alcohol[:,0]) == \"1984\"\n",
    "lignes_1984 = world_alcohol[years_1984]\n",
    "lignes_1984"
   ]
  },
  {
   "cell_type": "markdown",
   "metadata": {},
   "source": [
    "### Comparaisons avec plusieurs conditions"
   ]
  },
  {
   "cell_type": "code",
   "execution_count": 26,
   "metadata": {},
   "outputs": [
    {
     "name": "stdout",
     "output_type": "stream",
     "text": [
      "[['1986' 'Africa' 'Algeria' 'Wine' '0.1']\n",
      " ['1986' 'Africa' 'Algeria' 'Spirits' '0.01']\n",
      " ['1986' 'Africa' 'Algeria' 'Beer' '0.18']\n",
      " ['1986' 'Africa' 'Algeria' 'Other' '0']]\n"
     ]
    }
   ],
   "source": [
    "is_algeria_and_1986 = (world_alcohol[:,2] == \"Algeria\") & (world_alcohol[:,0] == \"1986\")\n",
    "rows_with_algeria_and_1986 = world_alcohol[is_algeria_and_1986]\n",
    "print(rows_with_algeria_and_1986)"
   ]
  },
  {
   "cell_type": "markdown",
   "metadata": {},
   "source": [
    "### Remplacer des valeurs"
   ]
  },
  {
   "cell_type": "code",
   "execution_count": 27,
   "metadata": {},
   "outputs": [
    {
     "data": {
      "text/plain": [
       "array(['1986', '1986', '1985', ..., '1986', '1987', '1986'], dtype='<U75')"
      ]
     },
     "execution_count": 27,
     "metadata": {},
     "output_type": "execute_result"
    }
   ],
   "source": [
    "world_alcohol2 = world_alcohol.copy()\n",
    "world_alcohol2[:,0][world_alcohol2[:,0]==\"1986\"] == \"2018\"\n",
    "world_alcohol2[:,0]"
   ]
  },
  {
   "cell_type": "code",
   "execution_count": 28,
   "metadata": {},
   "outputs": [
    {
     "data": {
      "text/plain": [
       "array(['Wine', 'Other', 'Wine', ..., 'Spirits', 'Other', 'Other'],\n",
       "      dtype='<U75')"
      ]
     },
     "execution_count": 28,
     "metadata": {},
     "output_type": "execute_result"
    }
   ],
   "source": [
    "world_alcohol2[:,3][world_alcohol2[:,3]==\"Wine\"] == \"Beer\"\n",
    "world_alcohol2[:,3]"
   ]
  },
  {
   "cell_type": "code",
   "execution_count": 29,
   "metadata": {},
   "outputs": [
    {
     "data": {
      "text/plain": [
       "array([['1986', 'Americas', 'Colombia', 'Beer', '4.27'],\n",
       "       ['1987', 'Americas', 'Saint Kitts and Nevis', 'Beer', '1.98'],\n",
       "       ['1989', 'Americas', 'Guatemala', 'Beer', '0.62'],\n",
       "       ...,\n",
       "       ['1986', 'Africa', 'Seychelles', 'Beer', '2.16'],\n",
       "       ['1986', 'Europe', 'Slovenia', 'Beer', '3.71'],\n",
       "       ['1989', 'Europe', 'Poland', 'Beer', '2.03']], dtype='<U75')"
      ]
     },
     "execution_count": 29,
     "metadata": {},
     "output_type": "execute_result"
    }
   ],
   "source": [
    "world_alcohol2[world_alcohol2[:,3]==\"Beer\"]"
   ]
  },
  {
   "cell_type": "markdown",
   "metadata": {},
   "source": [
    "### Remplacer les chaines de caracteres vide"
   ]
  },
  {
   "cell_type": "code",
   "execution_count": 30,
   "metadata": {},
   "outputs": [
    {
     "data": {
      "text/plain": [
       "array([['1986', 'Western Pacific', 'Viet Nam', 'Wine', '0'],\n",
       "       ['1986', 'Americas', 'Uruguay', 'Other', '0.5'],\n",
       "       ['1985', 'Africa', \"Cte d'Ivoire\", 'Wine', '1.62'],\n",
       "       ...,\n",
       "       ['1986', 'Europe', 'Switzerland', 'Spirits', '2.54'],\n",
       "       ['1987', 'Western Pacific', 'Papua New Guinea', 'Other', '0'],\n",
       "       ['1986', 'Africa', 'Swaziland', 'Other', '5.15']], dtype='<U75')"
      ]
     },
     "execution_count": 30,
     "metadata": {},
     "output_type": "execute_result"
    }
   ],
   "source": [
    "is_value_empty = (world_alcohol[:,4])== ''\n",
    "world_alcohol[is_value_empty,4] == '0'\n",
    "world_alcohol"
   ]
  },
  {
   "cell_type": "markdown",
   "metadata": {},
   "source": [
    "### Convertir des types de données"
   ]
  },
  {
   "cell_type": "code",
   "execution_count": 73,
   "metadata": {},
   "outputs": [
    {
     "ename": "ValueError",
     "evalue": "could not convert string to float: ",
     "output_type": "error",
     "traceback": [
      "\u001b[1;31m---------------------------------------------------------------------------\u001b[0m",
      "\u001b[1;31mValueError\u001b[0m                                Traceback (most recent call last)",
      "\u001b[1;32m<ipython-input-73-81ffce431986>\u001b[0m in \u001b[0;36m<module>\u001b[1;34m\u001b[0m\n\u001b[0;32m      1\u001b[0m \u001b[0malcohol_consumption\u001b[0m \u001b[1;33m=\u001b[0m \u001b[0mworld_alcohol\u001b[0m\u001b[1;33m[\u001b[0m\u001b[1;33m:\u001b[0m\u001b[1;33m,\u001b[0m\u001b[1;36m4\u001b[0m\u001b[1;33m]\u001b[0m\u001b[1;33m\u001b[0m\u001b[1;33m\u001b[0m\u001b[0m\n\u001b[1;32m----> 2\u001b[1;33m \u001b[0malcohol_consumption\u001b[0m\u001b[1;33m=\u001b[0m\u001b[0malcohol_consumption\u001b[0m\u001b[1;33m.\u001b[0m\u001b[0mastype\u001b[0m\u001b[1;33m(\u001b[0m\u001b[0mfloat\u001b[0m\u001b[1;33m)\u001b[0m\u001b[1;33m\u001b[0m\u001b[1;33m\u001b[0m\u001b[0m\n\u001b[0m\u001b[0;32m      3\u001b[0m \u001b[0malcohol_consumption\u001b[0m\u001b[1;33m\u001b[0m\u001b[1;33m\u001b[0m\u001b[0m\n",
      "\u001b[1;31mValueError\u001b[0m: could not convert string to float: "
     ]
    }
   ],
   "source": [
    "alcohol_consumption = world_alcohol[:,4]\n",
    "alcohol_consumption=alcohol_consumption.astype(float)\n",
    "alcohol_consumption"
   ]
  },
  {
   "cell_type": "markdown",
   "metadata": {},
   "source": [
    "###  Réaliser des calculs mathématiques"
   ]
  },
  {
   "cell_type": "code",
   "execution_count": 61,
   "metadata": {},
   "outputs": [
    {
     "ename": "TypeError",
     "evalue": "cannot perform reduce with flexible type",
     "output_type": "error",
     "traceback": [
      "\u001b[1;31m---------------------------------------------------------------------------\u001b[0m",
      "\u001b[1;31mTypeError\u001b[0m                                 Traceback (most recent call last)",
      "\u001b[1;32m<ipython-input-61-bb9b9b7545e6>\u001b[0m in \u001b[0;36m<module>\u001b[1;34m\u001b[0m\n\u001b[0;32m      1\u001b[0m \u001b[1;31m# sum(), mean(), max()\u001b[0m\u001b[1;33m\u001b[0m\u001b[1;33m\u001b[0m\u001b[1;33m\u001b[0m\u001b[0m\n\u001b[1;32m----> 2\u001b[1;33m \u001b[0mtotal_alcohol\u001b[0m \u001b[1;33m=\u001b[0m  \u001b[0malcohol_consumption\u001b[0m\u001b[1;33m.\u001b[0m\u001b[0msum\u001b[0m\u001b[1;33m(\u001b[0m\u001b[1;33m)\u001b[0m\u001b[1;33m\u001b[0m\u001b[1;33m\u001b[0m\u001b[0m\n\u001b[0m",
      "\u001b[1;32m~\\anaconda3\\lib\\site-packages\\numpy\\core\\_methods.py\u001b[0m in \u001b[0;36m_sum\u001b[1;34m(a, axis, dtype, out, keepdims, initial, where)\u001b[0m\n\u001b[0;32m     36\u001b[0m def _sum(a, axis=None, dtype=None, out=None, keepdims=False,\n\u001b[0;32m     37\u001b[0m          initial=_NoValue, where=True):\n\u001b[1;32m---> 38\u001b[1;33m     \u001b[1;32mreturn\u001b[0m \u001b[0mumr_sum\u001b[0m\u001b[1;33m(\u001b[0m\u001b[0ma\u001b[0m\u001b[1;33m,\u001b[0m \u001b[0maxis\u001b[0m\u001b[1;33m,\u001b[0m \u001b[0mdtype\u001b[0m\u001b[1;33m,\u001b[0m \u001b[0mout\u001b[0m\u001b[1;33m,\u001b[0m \u001b[0mkeepdims\u001b[0m\u001b[1;33m,\u001b[0m \u001b[0minitial\u001b[0m\u001b[1;33m,\u001b[0m \u001b[0mwhere\u001b[0m\u001b[1;33m)\u001b[0m\u001b[1;33m\u001b[0m\u001b[1;33m\u001b[0m\u001b[0m\n\u001b[0m\u001b[0;32m     39\u001b[0m \u001b[1;33m\u001b[0m\u001b[0m\n\u001b[0;32m     40\u001b[0m def _prod(a, axis=None, dtype=None, out=None, keepdims=False,\n",
      "\u001b[1;31mTypeError\u001b[0m: cannot perform reduce with flexible type"
     ]
    }
   ],
   "source": [
    "# sum(), mean(), max()\n",
    "total_alcohol =  alcohol_consumption.sum()"
   ]
  },
  {
   "cell_type": "code",
   "execution_count": null,
   "metadata": {},
   "outputs": [],
   "source": []
  }
 ],
 "metadata": {
  "kernelspec": {
   "display_name": "Python 3",
   "language": "python",
   "name": "python3"
  },
  "language_info": {
   "codemirror_mode": {
    "name": "ipython",
    "version": 3
   },
   "file_extension": ".py",
   "mimetype": "text/x-python",
   "name": "python",
   "nbconvert_exporter": "python",
   "pygments_lexer": "ipython3",
   "version": "3.7.6"
  }
 },
 "nbformat": 4,
 "nbformat_minor": 4
}
