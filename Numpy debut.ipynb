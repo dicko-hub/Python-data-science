{
 "cells": [
  {
   "cell_type": "markdown",
   "metadata": {},
   "source": [
    "### Cas pratique"
   ]
  },
  {
   "cell_type": "code",
   "execution_count": 1,
   "metadata": {},
   "outputs": [],
   "source": [
    "import numpy as np"
   ]
  },
  {
   "cell_type": "code",
   "execution_count": 2,
   "metadata": {},
   "outputs": [],
   "source": [
    "vector = np.array(['10','20','30']).astype(int)"
   ]
  },
  {
   "cell_type": "code",
   "execution_count": 3,
   "metadata": {},
   "outputs": [],
   "source": [
    "matrix = np.array([[5,10,15],[20,25,30],[35,40,45]])"
   ]
  },
  {
   "cell_type": "code",
   "execution_count": 4,
   "metadata": {},
   "outputs": [
    {
     "data": {
      "text/plain": [
       "array([10, 20, 30])"
      ]
     },
     "execution_count": 4,
     "metadata": {},
     "output_type": "execute_result"
    }
   ],
   "source": [
    "vector"
   ]
  },
  {
   "cell_type": "code",
   "execution_count": 5,
   "metadata": {},
   "outputs": [
    {
     "data": {
      "text/plain": [
       "array([[ 5, 10, 15],\n",
       "       [20, 25, 30],\n",
       "       [35, 40, 45]])"
      ]
     },
     "execution_count": 5,
     "metadata": {},
     "output_type": "execute_result"
    }
   ],
   "source": [
    "matrix"
   ]
  },
  {
   "cell_type": "code",
   "execution_count": 6,
   "metadata": {},
   "outputs": [],
   "source": [
    "vector_shape = vector.shape"
   ]
  },
  {
   "cell_type": "code",
   "execution_count": 7,
   "metadata": {},
   "outputs": [],
   "source": [
    "matrix_shape = matrix.shape"
   ]
  },
  {
   "cell_type": "code",
   "execution_count": 8,
   "metadata": {},
   "outputs": [
    {
     "data": {
      "text/plain": [
       "(3,)"
      ]
     },
     "execution_count": 8,
     "metadata": {},
     "output_type": "execute_result"
    }
   ],
   "source": [
    "vector_shape"
   ]
  },
  {
   "cell_type": "code",
   "execution_count": 9,
   "metadata": {},
   "outputs": [
    {
     "data": {
      "text/plain": [
       "(3, 3)"
      ]
     },
     "execution_count": 9,
     "metadata": {},
     "output_type": "execute_result"
    }
   ],
   "source": [
    "matrix_shape"
   ]
  },
  {
   "cell_type": "markdown",
   "metadata": {},
   "source": [
    "## Lire un dataset"
   ]
  },
  {
   "cell_type": "code",
   "execution_count": 10,
   "metadata": {},
   "outputs": [
    {
     "name": "stdout",
     "output_type": "stream",
     "text": [
      "<class 'numpy.ndarray'>\n"
     ]
    }
   ],
   "source": [
    "world_alcohol = np.genfromtxt('world_alcohol.csv', delimiter =',')\n",
    "print(type(world_alcohol))"
   ]
  },
  {
   "cell_type": "code",
   "execution_count": 11,
   "metadata": {},
   "outputs": [
    {
     "data": {
      "text/plain": [
       "dtype('float64')"
      ]
     },
     "execution_count": 11,
     "metadata": {},
     "output_type": "execute_result"
    }
   ],
   "source": [
    "world_alcohol.dtype"
   ]
  },
  {
   "cell_type": "code",
   "execution_count": 12,
   "metadata": {},
   "outputs": [
    {
     "data": {
      "text/plain": [
       "array([['Year', 'WHO region', 'Country', 'Beverage Types',\n",
       "        'Display Value'],\n",
       "       ['1986', 'Western Pacific', 'Viet Nam', 'Wine', '0'],\n",
       "       ['1986', 'Americas', 'Uruguay', 'Other', '0.5'],\n",
       "       ...,\n",
       "       ['1986', 'Europe', 'Switzerland', 'Spirits', '2.54'],\n",
       "       ['1987', 'Western Pacific', 'Papua New Guinea', 'Other', '0'],\n",
       "       ['1986', 'Africa', 'Swaziland', 'Other', '5.15']], dtype='<U75')"
      ]
     },
     "execution_count": 12,
     "metadata": {},
     "output_type": "execute_result"
    }
   ],
   "source": [
    "world_alcohol = np.genfromtxt('world_alcohol.csv', delimiter =',', dtype = 'U75')\n",
    "world_alcohol"
   ]
  },
  {
   "cell_type": "code",
   "execution_count": 13,
   "metadata": {},
   "outputs": [
    {
     "data": {
      "text/plain": [
       "array([['1986', 'Western Pacific', 'Viet Nam', 'Wine', '0'],\n",
       "       ['1986', 'Americas', 'Uruguay', 'Other', '0.5'],\n",
       "       ['1985', 'Africa', \"Cte d'Ivoire\", 'Wine', '1.62'],\n",
       "       ...,\n",
       "       ['1986', 'Europe', 'Switzerland', 'Spirits', '2.54'],\n",
       "       ['1987', 'Western Pacific', 'Papua New Guinea', 'Other', '0'],\n",
       "       ['1986', 'Africa', 'Swaziland', 'Other', '5.15']], dtype='<U75')"
      ]
     },
     "execution_count": 13,
     "metadata": {},
     "output_type": "execute_result"
    }
   ],
   "source": [
    "world_alcohol = np.genfromtxt('world_alcohol.csv', delimiter =',', dtype = 'U75', skip_header = 1)\n",
    "world_alcohol"
   ]
  },
  {
   "cell_type": "markdown",
   "metadata": {},
   "source": [
    "### extraction de données"
   ]
  },
  {
   "cell_type": "code",
   "execution_count": 14,
   "metadata": {},
   "outputs": [
    {
     "data": {
      "text/plain": [
       "'1.62'"
      ]
     },
     "execution_count": 14,
     "metadata": {},
     "output_type": "execute_result"
    }
   ],
   "source": [
    "ivoire_1985 = world_alcohol[2,4]\n",
    "ivoire_1985"
   ]
  },
  {
   "cell_type": "code",
   "execution_count": 15,
   "metadata": {},
   "outputs": [
    {
     "data": {
      "text/plain": [
       "'Uruguay'"
      ]
     },
     "execution_count": 15,
     "metadata": {},
     "output_type": "execute_result"
    }
   ],
   "source": [
    "second_contry = world_alcohol[1,2]\n",
    "second_contry"
   ]
  },
  {
   "cell_type": "code",
   "execution_count": 16,
   "metadata": {},
   "outputs": [
    {
     "data": {
      "text/plain": [
       "array(['Viet Nam', 'Uruguay', \"Cte d'Ivoire\", ..., 'Switzerland',\n",
       "       'Papua New Guinea', 'Swaziland'], dtype='<U75')"
      ]
     },
     "execution_count": 16,
     "metadata": {},
     "output_type": "execute_result"
    }
   ],
   "source": [
    "contries = world_alcohol[:,2]\n",
    "contries"
   ]
  },
  {
   "cell_type": "code",
   "execution_count": 17,
   "metadata": {},
   "outputs": [
    {
     "data": {
      "text/plain": [
       "array(['0', '0.5', '1.62', ..., '2.54', '0', '5.15'], dtype='<U75')"
      ]
     },
     "execution_count": 17,
     "metadata": {},
     "output_type": "execute_result"
    }
   ],
   "source": [
    "alcohol_consumption = world_alcohol[:,4]\n",
    "alcohol_consumption"
   ]
  },
  {
   "cell_type": "code",
   "execution_count": 18,
   "metadata": {},
   "outputs": [
    {
     "data": {
      "text/plain": [
       "array([['1986', 'Western Pacific'],\n",
       "       ['1986', 'Americas'],\n",
       "       ['1985', 'Africa'],\n",
       "       ...,\n",
       "       ['1986', 'Europe'],\n",
       "       ['1987', 'Western Pacific'],\n",
       "       ['1986', 'Africa']], dtype='<U75')"
      ]
     },
     "execution_count": 18,
     "metadata": {},
     "output_type": "execute_result"
    }
   ],
   "source": [
    "first_two_colums = world_alcohol[:,0:2]\n",
    "first_two_colums"
   ]
  },
  {
   "cell_type": "code",
   "execution_count": 19,
   "metadata": {},
   "outputs": [
    {
     "data": {
      "text/plain": [
       "array(['1986', '1986', '1985', '1986', '1987', '1987', '1987', '1985',\n",
       "       '1986', '1984'], dtype='<U75')"
      ]
     },
     "execution_count": 19,
     "metadata": {},
     "output_type": "execute_result"
    }
   ],
   "source": [
    "first_ten_years = world_alcohol[0:10,0]\n",
    "first_ten_years"
   ]
  },
  {
   "cell_type": "code",
   "execution_count": 20,
   "metadata": {},
   "outputs": [
    {
     "data": {
      "text/plain": [
       "array([['1986', 'Western Pacific', 'Viet Nam', 'Wine', '0'],\n",
       "       ['1986', 'Americas', 'Uruguay', 'Other', '0.5'],\n",
       "       ['1985', 'Africa', \"Cte d'Ivoire\", 'Wine', '1.62'],\n",
       "       ['1986', 'Americas', 'Colombia', 'Beer', '4.27'],\n",
       "       ['1987', 'Americas', 'Saint Kitts and Nevis', 'Beer', '1.98'],\n",
       "       ['1987', 'Americas', 'Guatemala', 'Other', '0'],\n",
       "       ['1987', 'Africa', 'Mauritius', 'Wine', '0.13'],\n",
       "       ['1985', 'Africa', 'Angola', 'Spirits', '0.39'],\n",
       "       ['1986', 'Americas', 'Antigua and Barbuda', 'Spirits', '1.55'],\n",
       "       ['1984', 'Africa', 'Nigeria', 'Other', '6.1']], dtype='<U75')"
      ]
     },
     "execution_count": 20,
     "metadata": {},
     "output_type": "execute_result"
    }
   ],
   "source": [
    "first_ten_rows = world_alcohol[0:10,:]\n",
    "first_ten_rows"
   ]
  },
  {
   "cell_type": "code",
   "execution_count": 21,
   "metadata": {},
   "outputs": [
    {
     "data": {
      "text/plain": [
       "array([['Western Pacific', 'Viet Nam'],\n",
       "       ['Americas', 'Uruguay'],\n",
       "       ['Africa', \"Cte d'Ivoire\"],\n",
       "       ['Americas', 'Colombia'],\n",
       "       ['Americas', 'Saint Kitts and Nevis'],\n",
       "       ['Americas', 'Guatemala'],\n",
       "       ['Africa', 'Mauritius'],\n",
       "       ['Africa', 'Angola'],\n",
       "       ['Americas', 'Antigua and Barbuda'],\n",
       "       ['Africa', 'Nigeria'],\n",
       "       ['Africa', 'Botswana'],\n",
       "       ['Americas', 'Guatemala'],\n",
       "       ['Western Pacific', \"Lao People's Democratic Republic\"],\n",
       "       ['Eastern Mediterranean', 'Afghanistan'],\n",
       "       ['Western Pacific', 'Viet Nam'],\n",
       "       ['Africa', 'Guinea-Bissau'],\n",
       "       ['Americas', 'Costa Rica'],\n",
       "       ['Africa', 'Seychelles'],\n",
       "       ['Europe', 'Norway'],\n",
       "       ['Africa', 'Kenya']], dtype='<U75')"
      ]
     },
     "execution_count": 21,
     "metadata": {},
     "output_type": "execute_result"
    }
   ],
   "source": [
    "first_twenty_regions = world_alcohol[0:20,1:3]\n",
    "first_twenty_regions"
   ]
  },
  {
   "cell_type": "markdown",
   "metadata": {},
   "source": [
    "### Effectuer des comparaisons"
   ]
  },
  {
   "cell_type": "code",
   "execution_count": 22,
   "metadata": {},
   "outputs": [
    {
     "data": {
      "text/plain": [
       "array([False, False, False, ..., False, False, False])"
      ]
     },
     "execution_count": 22,
     "metadata": {},
     "output_type": "execute_result"
    }
   ],
   "source": [
    "contries_canada = contries == \"Canada\"\n",
    "contries_canada"
   ]
  },
  {
   "cell_type": "code",
   "execution_count": 23,
   "metadata": {},
   "outputs": [
    {
     "data": {
      "text/plain": [
       "array([False, False, False, ..., False, False, False])"
      ]
     },
     "execution_count": 23,
     "metadata": {},
     "output_type": "execute_result"
    }
   ],
   "source": [
    "year_1984 = (world_alcohol[:,0])==\"1984\"\n",
    "year_1984"
   ]
  },
  {
   "cell_type": "markdown",
   "metadata": {},
   "source": [
    "### Selectionner des élements"
   ]
  },
  {
   "cell_type": "code",
   "execution_count": 24,
   "metadata": {},
   "outputs": [
    {
     "data": {
      "text/plain": [
       "array([['1984', 'Africa', 'Algeria', 'Spirits', '0.01'],\n",
       "       ['1987', 'Africa', 'Algeria', 'Beer', '0.17'],\n",
       "       ['1987', 'Africa', 'Algeria', 'Spirits', '0.01'],\n",
       "       ['1986', 'Africa', 'Algeria', 'Wine', '0.1'],\n",
       "       ['1984', 'Africa', 'Algeria', 'Other', '0'],\n",
       "       ['1989', 'Africa', 'Algeria', 'Beer', '0.16'],\n",
       "       ['1989', 'Africa', 'Algeria', 'Spirits', '0.01'],\n",
       "       ['1989', 'Africa', 'Algeria', 'Wine', '0.23'],\n",
       "       ['1986', 'Africa', 'Algeria', 'Spirits', '0.01'],\n",
       "       ['1984', 'Africa', 'Algeria', 'Wine', '0.12'],\n",
       "       ['1985', 'Africa', 'Algeria', 'Beer', '0.19'],\n",
       "       ['1985', 'Africa', 'Algeria', 'Other', '0'],\n",
       "       ['1986', 'Africa', 'Algeria', 'Beer', '0.18'],\n",
       "       ['1985', 'Africa', 'Algeria', 'Wine', '0.11'],\n",
       "       ['1986', 'Africa', 'Algeria', 'Other', '0'],\n",
       "       ['1989', 'Africa', 'Algeria', 'Other', '0'],\n",
       "       ['1987', 'Africa', 'Algeria', 'Other', '0'],\n",
       "       ['1984', 'Africa', 'Algeria', 'Beer', '0.2'],\n",
       "       ['1985', 'Africa', 'Algeria', 'Spirits', '0.01'],\n",
       "       ['1987', 'Africa', 'Algeria', 'Wine', '0.1']], dtype='<U75')"
      ]
     },
     "execution_count": 24,
     "metadata": {},
     "output_type": "execute_result"
    }
   ],
   "source": [
    "contry_is_algeria = (world_alcohol[:,2]) == \"Algeria\"\n",
    "contry_is_algeria \n",
    "contry_algeria = world_alcohol[contry_is_algeria]\n",
    "contry_algeria"
   ]
  },
  {
   "cell_type": "code",
   "execution_count": 25,
   "metadata": {},
   "outputs": [
    {
     "data": {
      "text/plain": [
       "array([['1984', 'Africa', 'Nigeria', 'Other', '6.1'],\n",
       "       ['1984', 'Eastern Mediterranean', 'Afghanistan', 'Other', '0'],\n",
       "       ['1984', 'Americas', 'Costa Rica', 'Wine', '0.06'],\n",
       "       ...,\n",
       "       ['1984', 'Europe', 'Latvia', 'Spirits', '7.5'],\n",
       "       ['1984', 'Africa', 'Angola', 'Wine', '0.57'],\n",
       "       ['1984', 'Africa', 'Central African Republic', 'Wine', '0.46']],\n",
       "      dtype='<U75')"
      ]
     },
     "execution_count": 25,
     "metadata": {},
     "output_type": "execute_result"
    }
   ],
   "source": [
    "years_1984 = (world_alcohol[:,0]) == \"1984\"\n",
    "lignes_1984 = world_alcohol[years_1984]\n",
    "lignes_1984"
   ]
  },
  {
   "cell_type": "markdown",
   "metadata": {},
   "source": [
    "### Comparaisons avec plusieurs conditions"
   ]
  },
  {
   "cell_type": "code",
   "execution_count": 26,
   "metadata": {},
   "outputs": [
    {
     "name": "stdout",
     "output_type": "stream",
     "text": [
      "[['1986' 'Africa' 'Algeria' 'Wine' '0.1']\n",
      " ['1986' 'Africa' 'Algeria' 'Spirits' '0.01']\n",
      " ['1986' 'Africa' 'Algeria' 'Beer' '0.18']\n",
      " ['1986' 'Africa' 'Algeria' 'Other' '0']]\n"
     ]
    }
   ],
   "source": [
    "is_algeria_and_1986 = (world_alcohol[:,2] == \"Algeria\") & (world_alcohol[:,0] == \"1986\")\n",
    "rows_with_algeria_and_1986 = world_alcohol[is_algeria_and_1986]\n",
    "print(rows_with_algeria_and_1986)"
   ]
  },
  {
   "cell_type": "markdown",
   "metadata": {},
   "source": [
    "### Remplacer des valeurs"
   ]
  },
  {
   "cell_type": "code",
   "execution_count": 27,
   "metadata": {},
   "outputs": [
    {
     "data": {
      "text/plain": [
       "array(['1986', '1986', '1985', ..., '1986', '1987', '1986'], dtype='<U75')"
      ]
     },
     "execution_count": 27,
     "metadata": {},
     "output_type": "execute_result"
    }
   ],
   "source": [
    "world_alcohol2 = world_alcohol.copy()\n",
    "world_alcohol2[:,0][world_alcohol2[:,0]==\"1986\"] == \"2018\"\n",
    "world_alcohol2[:,0]"
   ]
  },
  {
   "cell_type": "code",
   "execution_count": 28,
   "metadata": {},
   "outputs": [
    {
     "data": {
      "text/plain": [
       "array(['Wine', 'Other', 'Wine', ..., 'Spirits', 'Other', 'Other'],\n",
       "      dtype='<U75')"
      ]
     },
     "execution_count": 28,
     "metadata": {},
     "output_type": "execute_result"
    }
   ],
   "source": [
    "world_alcohol2[:,3][world_alcohol2[:,3]==\"Wine\"] == \"Beer\"\n",
    "world_alcohol2[:,3]"
   ]
  },
  {
   "cell_type": "code",
   "execution_count": 29,
   "metadata": {},
   "outputs": [
    {
     "data": {
      "text/plain": [
       "array([['1986', 'Americas', 'Colombia', 'Beer', '4.27'],\n",
       "       ['1987', 'Americas', 'Saint Kitts and Nevis', 'Beer', '1.98'],\n",
       "       ['1989', 'Americas', 'Guatemala', 'Beer', '0.62'],\n",
       "       ...,\n",
       "       ['1986', 'Africa', 'Seychelles', 'Beer', '2.16'],\n",
       "       ['1986', 'Europe', 'Slovenia', 'Beer', '3.71'],\n",
       "       ['1989', 'Europe', 'Poland', 'Beer', '2.03']], dtype='<U75')"
      ]
     },
     "execution_count": 29,
     "metadata": {},
     "output_type": "execute_result"
    }
   ],
   "source": [
    "world_alcohol2[world_alcohol2[:,3]==\"Beer\"]"
   ]
  },
  {
   "cell_type": "markdown",
   "metadata": {},
   "source": [
    "### Remplacer les chaines de caracteres vide"
   ]
  },
  {
   "cell_type": "code",
   "execution_count": 30,
   "metadata": {},
   "outputs": [
    {
     "data": {
      "text/plain": [
       "array([['1986', 'Western Pacific', 'Viet Nam', 'Wine', '0'],\n",
       "       ['1986', 'Americas', 'Uruguay', 'Other', '0.5'],\n",
       "       ['1985', 'Africa', \"Cte d'Ivoire\", 'Wine', '1.62'],\n",
       "       ...,\n",
       "       ['1986', 'Europe', 'Switzerland', 'Spirits', '2.54'],\n",
       "       ['1987', 'Western Pacific', 'Papua New Guinea', 'Other', '0'],\n",
       "       ['1986', 'Africa', 'Swaziland', 'Other', '5.15']], dtype='<U75')"
      ]
     },
     "execution_count": 30,
     "metadata": {},
     "output_type": "execute_result"
    }
   ],
   "source": [
    "is_value_empty = (world_alcohol[:,4])== ''\n",
    "world_alcohol[is_value_empty,4] ='0'\n",
    "world_alcohol"
   ]
  },
  {
   "cell_type": "markdown",
   "metadata": {},
   "source": [
    "### Convertir des types de données"
   ]
  },
  {
   "cell_type": "code",
   "execution_count": 31,
   "metadata": {},
   "outputs": [
    {
     "data": {
      "text/plain": [
       "array([0.  , 0.5 , 1.62, ..., 2.54, 0.  , 5.15])"
      ]
     },
     "execution_count": 31,
     "metadata": {},
     "output_type": "execute_result"
    }
   ],
   "source": [
    "alcohol_consumption= world_alcohol[:,4].astype(float)\n",
    "alcohol_consumption"
   ]
  },
  {
   "cell_type": "markdown",
   "metadata": {},
   "source": [
    "###  Réaliser des calculs mathématiques"
   ]
  },
  {
   "cell_type": "code",
   "execution_count": 32,
   "metadata": {},
   "outputs": [
    {
     "data": {
      "text/plain": [
       "3908.96"
      ]
     },
     "execution_count": 32,
     "metadata": {},
     "output_type": "execute_result"
    }
   ],
   "source": [
    "# sum(), mean(), max()\n",
    "total_alcohol =  alcohol_consumption.sum()\n",
    "total_alcohol"
   ]
  },
  {
   "cell_type": "markdown",
   "metadata": {},
   "source": [
    "### Consommation totale annuelle par habitant pour un pays"
   ]
  },
  {
   "cell_type": "code",
   "execution_count": 33,
   "metadata": {},
   "outputs": [
    {
     "name": "stdout",
     "output_type": "stream",
     "text": [
      "[['1984' 'Americas' 'Canada' 'Spirits' '3.35']\n",
      " ['1989' 'Americas' 'Canada' 'Wine' '1.27']\n",
      " ['1984' 'Americas' 'Canada' 'Beer' '5']\n",
      " ['1985' 'Americas' 'Canada' 'Beer' '4.94']\n",
      " ['1987' 'Americas' 'Canada' 'Wine' '1.3']\n",
      " ['1987' 'Americas' 'Canada' 'Beer' '4.83']\n",
      " ['1986' 'Americas' 'Canada' 'Other' '0']\n",
      " ['1986' 'Americas' 'Canada' 'Spirits' '3.11']\n",
      " ['1985' 'Americas' 'Canada' 'Spirits' '3.21']\n",
      " ['1985' 'Americas' 'Canada' 'Other' '0']\n",
      " ['1986' 'Americas' 'Canada' 'Beer' '4.87']\n",
      " ['1984' 'Americas' 'Canada' 'Wine' '1.24']\n",
      " ['1989' 'Americas' 'Canada' 'Spirits' '2.91']\n",
      " ['1984' 'Americas' 'Canada' 'Other' '0']\n",
      " ['1985' 'Americas' 'Canada' 'Wine' '1.29']\n",
      " ['1987' 'Americas' 'Canada' 'Spirits' '2.99']\n",
      " ['1989' 'Americas' 'Canada' 'Beer' '4.82']\n",
      " ['1989' 'Americas' 'Canada' 'Other' '0']\n",
      " ['1986' 'Americas' 'Canada' 'Wine' '1.33']\n",
      " ['1987' 'Americas' 'Canada' 'Other' '0']]\n"
     ]
    }
   ],
   "source": [
    "print(world_alcohol[world_alcohol[:,2] == \"Canada\"])"
   ]
  },
  {
   "cell_type": "code",
   "execution_count": 34,
   "metadata": {},
   "outputs": [
    {
     "data": {
      "text/plain": [
       "array([['1986', 'Americas', 'Canada', 'Other', '0'],\n",
       "       ['1986', 'Americas', 'Canada', 'Spirits', '3.11'],\n",
       "       ['1986', 'Americas', 'Canada', 'Beer', '4.87'],\n",
       "       ['1986', 'Americas', 'Canada', 'Wine', '1.33']], dtype='<U75')"
      ]
     },
     "execution_count": 34,
     "metadata": {},
     "output_type": "execute_result"
    }
   ],
   "source": [
    "canada_1986 = world_alcohol[(world_alcohol[:,0] == \"1986\") & (world_alcohol[:,2] == \"Canada\")]\n",
    "canada_1986"
   ]
  },
  {
   "cell_type": "code",
   "execution_count": 35,
   "metadata": {},
   "outputs": [
    {
     "data": {
      "text/plain": [
       "array([['1986', 'Americas', 'Canada', 'Other', '0'],\n",
       "       ['1986', 'Americas', 'Canada', 'Spirits', '3.11'],\n",
       "       ['1986', 'Americas', 'Canada', 'Beer', '4.87'],\n",
       "       ['1986', 'Americas', 'Canada', 'Wine', '1.33']], dtype='<U75')"
      ]
     },
     "execution_count": 35,
     "metadata": {},
     "output_type": "execute_result"
    }
   ],
   "source": [
    "canada_1986[canada_1986[:,4] == ''] = '0'\n",
    "canada_1986"
   ]
  },
  {
   "cell_type": "code",
   "execution_count": 36,
   "metadata": {},
   "outputs": [
    {
     "data": {
      "text/plain": [
       "array([0.  , 3.11, 4.87, 1.33])"
      ]
     },
     "execution_count": 36,
     "metadata": {},
     "output_type": "execute_result"
    }
   ],
   "source": [
    "canada_alcohol = canada_1986[:,4].astype(float)\n",
    "canada_alcohol"
   ]
  },
  {
   "cell_type": "code",
   "execution_count": 38,
   "metadata": {},
   "outputs": [
    {
     "data": {
      "text/plain": [
       "9.31"
      ]
     },
     "execution_count": 38,
     "metadata": {},
     "output_type": "execute_result"
    }
   ],
   "source": [
    "total_canada_draking = canada_alcohol.sum()\n",
    "total_canada_draking"
   ]
  },
  {
   "cell_type": "markdown",
   "metadata": {},
   "source": [
    "### Calculer la consommation pour chaque pays en 1989"
   ]
  },
  {
   "cell_type": "code",
   "execution_count": 76,
   "metadata": {},
   "outputs": [],
   "source": [
    "totals = {}\n",
    "\n",
    "year = world_alcohol[world_alcohol[:,0] == \"1989\"]\n",
    "\n",
    "contries = year[:,2]"
   ]
  },
  {
   "cell_type": "code",
   "execution_count": 77,
   "metadata": {},
   "outputs": [],
   "source": [
    "for item in contries:\n",
    "    contry_consumption = year[year[:,2] == item]\n",
    "    fifth_column = contry_consumption[:,4] \n",
    "    fifth_column[fifth_column == ''] ='0'\n",
    "    fifth_column = fifth_column.astype(float)\n",
    "    somme = fifth_column.sum()\n",
    "    totals[item] = somme\n",
    "    "
   ]
  },
  {
   "cell_type": "code",
   "execution_count": 78,
   "metadata": {},
   "outputs": [
    {
     "name": "stdout",
     "output_type": "stream",
     "text": [
      "Guatemala  a bu  2.47  litres en 1989\n",
      "Seychelles  a bu  3.3000000000000003  litres en 1989\n",
      "Costa Rica  a bu  5.3999999999999995  litres en 1989\n",
      "Mauritius  a bu  3.54  litres en 1989\n",
      "Zimbabwe  a bu  4.92  litres en 1989\n",
      "Suriname  a bu  3.67  litres en 1989\n",
      "Croatia  a bu  10.92  litres en 1989\n",
      "Syrian Arab Republic  a bu  0.54  litres en 1989\n",
      "Bolivia (Plurinational State of)  a bu  3.05  litres en 1989\n",
      "Somalia  a bu  0.0  litres en 1989\n",
      "Namibia  a bu  0.24  litres en 1989\n",
      "Uganda  a bu  7.8  litres en 1989\n",
      "Afghanistan  a bu  0.0  litres en 1989\n",
      "Jamaica  a bu  3.03  litres en 1989\n",
      "Finland  a bu  9.419999999999998  litres en 1989\n",
      "Iraq  a bu  0.75  litres en 1989\n",
      "Malawi  a bu  1.02  litres en 1989\n",
      "Bulgaria  a bu  11.43  litres en 1989\n",
      "Nicaragua  a bu  2.5  litres en 1989\n",
      "Central African Republic  a bu  2.5199999999999996  litres en 1989\n",
      "Burundi  a bu  8.159999999999998  litres en 1989\n",
      "Sweden  a bu  7.47  litres en 1989\n",
      "Greece  a bu  10.15  litres en 1989\n",
      "Kyrgyzstan  a bu  4.279999999999999  litres en 1989\n",
      "Belgium  a bu  11.61  litres en 1989\n",
      "Angola  a bu  2.28  litres en 1989\n",
      "Burkina Faso  a bu  3.99  litres en 1989\n",
      "Czech Republic  a bu  13.009999999999998  litres en 1989\n",
      "United Arab Emirates  a bu  4.43  litres en 1989\n",
      "Peru  a bu  4.99  litres en 1989\n",
      "Trinidad and Tobago  a bu  4.68  litres en 1989\n",
      "Guyana  a bu  9.940000000000001  litres en 1989\n",
      "Bahrain  a bu  4.89  litres en 1989\n",
      "Benin  a bu  1.3800000000000001  litres en 1989\n",
      "Liberia  a bu  5.61  litres en 1989\n",
      "Viet Nam  a bu  0.16  litres en 1989\n",
      "Belarus  a bu  7.9799999999999995  litres en 1989\n",
      "Swaziland  a bu  6.68  litres en 1989\n",
      "France  a bu  16.05  litres en 1989\n",
      "United States of America  a bu  9.16  litres en 1989\n",
      "Cabo Verde  a bu  2.79  litres en 1989\n",
      "Saudi Arabia  a bu  0.15  litres en 1989\n",
      "Poland  a bu  9.33  litres en 1989\n",
      "Senegal  a bu  0.6100000000000001  litres en 1989\n",
      "Slovenia  a bu  12.969999999999999  litres en 1989\n",
      "Hungary  a bu  16.29  litres en 1989\n",
      "Iran (Islamic Republic of)  a bu  0.0  litres en 1989\n",
      "Lesotho  a bu  2.02  litres en 1989\n",
      "Gabon  a bu  9.34  litres en 1989\n",
      "Comoros  a bu  0.10999999999999999  litres en 1989\n",
      "Italy  a bu  10.899999999999999  litres en 1989\n",
      "Denmark  a bu  11.649999999999999  litres en 1989\n",
      "Canada  a bu  9.0  litres en 1989\n",
      "Zambia  a bu  3.37  litres en 1989\n",
      "Botswana  a bu  4.63  litres en 1989\n",
      "Kuwait  a bu  0.0  litres en 1989\n",
      "Russian Federation  a bu  5.35  litres en 1989\n",
      "New Zealand  a bu  11.52  litres en 1989\n",
      "Uruguay  a bu  7.4399999999999995  litres en 1989\n",
      "Fiji  a bu  1.9600000000000002  litres en 1989\n",
      "Israel  a bu  2.0300000000000002  litres en 1989\n",
      "Cte d'Ivoire  a bu  2.2  litres en 1989\n",
      "Spain  a bu  13.280000000000001  litres en 1989\n",
      "South Africa  a bu  9.21  litres en 1989\n",
      "Morocco  a bu  0.7  litres en 1989\n",
      "Venezuela (Bolivarian Republic of)  a bu  7.87  litres en 1989\n",
      "Egypt  a bu  0.42000000000000004  litres en 1989\n",
      "Ethiopia  a bu  0.8600000000000001  litres en 1989\n",
      "Bhutan  a bu  0.31  litres en 1989\n",
      "Chile  a bu  8.649999999999999  litres en 1989\n",
      "Cambodia  a bu  0.33  litres en 1989\n",
      "Mali  a bu  0.6699999999999999  litres en 1989\n",
      "Nepal  a bu  0.03  litres en 1989\n",
      "Kiribati  a bu  0.48  litres en 1989\n",
      "Dominican Republic  a bu  4.53  litres en 1989\n",
      "Vanuatu  a bu  1.74  litres en 1989\n",
      "Solomon Islands  a bu  0.5800000000000001  litres en 1989\n",
      "Libya  a bu  0.0  litres en 1989\n",
      "Ukraine  a bu  5.32  litres en 1989\n",
      "Eritrea  a bu  0.29  litres en 1989\n",
      "Switzerland  a bu  13.849999999999998  litres en 1989\n",
      "Mexico  a bu  5.1  litres en 1989\n",
      "Portugal  a bu  15.350000000000001  litres en 1989\n",
      "El Salvador  a bu  1.77  litres en 1989\n",
      "Philippines  a bu  3.78  litres en 1989\n",
      "Netherlands  a bu  10.030000000000001  litres en 1989\n",
      "Mozambique  a bu  0.39  litres en 1989\n",
      "Togo  a bu  2.2199999999999998  litres en 1989\n",
      "Democratic People's Republic of Korea  a bu  3.6799999999999997  litres en 1989\n",
      "Cuba  a bu  4.37  litres en 1989\n",
      "Singapore  a bu  1.61  litres en 1989\n",
      "Lithuania  a bu  0.0  litres en 1989\n",
      "Ecuador  a bu  2.54  litres en 1989\n",
      "Malaysia  a bu  0.68  litres en 1989\n",
      "Niger  a bu  0.11  litres en 1989\n",
      "Democratic Republic of the Congo  a bu  1.92  litres en 1989\n",
      "Australia  a bu  12.09  litres en 1989\n",
      "Cyprus  a bu  9.29  litres en 1989\n",
      "Antigua and Barbuda  a bu  4.69  litres en 1989\n",
      "Pakistan  a bu  0.02  litres en 1989\n",
      "Colombia  a bu  6.960000000000001  litres en 1989\n",
      "Saint Lucia  a bu  11.62  litres en 1989\n",
      "Brazil  a bu  5.52  litres en 1989\n",
      "Algeria  a bu  0.4  litres en 1989\n",
      "Malta  a bu  7.13  litres en 1989\n",
      "Lao People's Democratic Republic  a bu  5.95  litres en 1989\n",
      "Turkey  a bu  0.72  litres en 1989\n",
      "Ghana  a bu  1.8599999999999999  litres en 1989\n",
      "Mauritania  a bu  0.02  litres en 1989\n",
      "Cameroon  a bu  6.359999999999999  litres en 1989\n",
      "Bahamas  a bu  12.290000000000001  litres en 1989\n",
      "Djibouti  a bu  0.87  litres en 1989\n",
      "Equatorial Guinea  a bu  6.49  litres en 1989\n",
      "Oman  a bu  1.03  litres en 1989\n",
      "Micronesia (Federated States of)  a bu  0.0  litres en 1989\n",
      "Myanmar  a bu  0.16  litres en 1989\n",
      "Qatar  a bu  1.4500000000000002  litres en 1989\n",
      "Rwanda  a bu  7.549999999999999  litres en 1989\n",
      "Mongolia  a bu  2.59  litres en 1989\n",
      "Latvia  a bu  7.039999999999999  litres en 1989\n",
      "Kenya  a bu  2.82  litres en 1989\n",
      "Saint Kitts and Nevis  a bu  4.65  litres en 1989\n",
      "Japan  a bu  7.74  litres en 1989\n",
      "Iceland  a bu  5.359999999999999  litres en 1989\n",
      "Papua New Guinea  a bu  1.1099999999999999  litres en 1989\n",
      "Guinea-Bissau  a bu  2.67  litres en 1989\n",
      "Belize  a bu  0.0  litres en 1989\n",
      "United Republic of Tanzania  a bu  5.9  litres en 1989\n",
      "Paraguay  a bu  6.51  litres en 1989\n",
      "Thailand  a bu  3.92  litres en 1989\n",
      "Tunisia  a bu  0.95  litres en 1989\n",
      "United Kingdom of Great Britain and Northern Ireland  a bu  9.99  litres en 1989\n",
      "Lebanon  a bu  3.94  litres en 1989\n",
      "Luxembourg  a bu  15.21  litres en 1989\n",
      "Albania  a bu  1.73  litres en 1989\n",
      "Bangladesh  a bu  0.0  litres en 1989\n",
      "Sudan  a bu  0.15  litres en 1989\n",
      "Congo  a bu  3.1500000000000004  litres en 1989\n",
      "Indonesia  a bu  0.07  litres en 1989\n",
      "Sierra Leone  a bu  4.380000000000001  litres en 1989\n",
      "Guinea  a bu  0.21  litres en 1989\n",
      "Panama  a bu  4.6000000000000005  litres en 1989\n",
      "Honduras  a bu  2.15  litres en 1989\n",
      "Samoa  a bu  2.63  litres en 1989\n",
      "Brunei Darussalam  a bu  2.7800000000000002  litres en 1989\n",
      "Germany  a bu  14.64  litres en 1989\n",
      "Yemen  a bu  0.2  litres en 1989\n",
      "Chad  a bu  0.30000000000000004  litres en 1989\n",
      "Sri Lanka  a bu  0.14  litres en 1989\n",
      "Republic of Korea  a bu  9.620000000000001  litres en 1989\n",
      "Sao Tome and Principe  a bu  2.57  litres en 1989\n",
      "Slovakia  a bu  12.700000000000001  litres en 1989\n",
      "Haiti  a bu  5.81  litres en 1989\n",
      "Jordan  a bu  0.19  litres en 1989\n",
      "Madagascar  a bu  1.38  litres en 1989\n",
      "Austria  a bu  13.9  litres en 1989\n",
      "Norway  a bu  5.08  litres en 1989\n",
      "Argentina  a bu  10.82  litres en 1989\n",
      "Romania  a bu  8.41  litres en 1989\n",
      "China  a bu  3.33  litres en 1989\n",
      "Nigeria  a bu  6.74  litres en 1989\n",
      "India  a bu  1.66  litres en 1989\n",
      "Ireland  a bu  11.79  litres en 1989\n",
      "Gambia  a bu  1.6300000000000001  litres en 1989\n"
     ]
    }
   ],
   "source": [
    "for one in totals:\n",
    "    print(one, ' a bu ', totals[one], ' litres en 1989')"
   ]
  },
  {
   "cell_type": "markdown",
   "metadata": {},
   "source": [
    "### Trouver le pays qui consomme le plus d'alcool"
   ]
  },
  {
   "cell_type": "code",
   "execution_count": 81,
   "metadata": {},
   "outputs": [
    {
     "name": "stdout",
     "output_type": "stream",
     "text": [
      "le pays qui a consommé le plus en 1989 :   Hungary avec  16.29  litres.\n"
     ]
    }
   ],
   "source": [
    "hightest_value = 0\n",
    "hightest_key = None\n",
    "for contry in totals:\n",
    "    if totals[contry] > hightest_value :\n",
    "        hightest_value = totals[contry]\n",
    "        hightest_key = contry\n",
    "print('le pays qui a consommé le plus en 1989 :  ',hightest_key, 'avec ', hightest_value,' litres.')"
   ]
  },
  {
   "cell_type": "code",
   "execution_count": null,
   "metadata": {},
   "outputs": [],
   "source": []
  }
 ],
 "metadata": {
  "kernelspec": {
   "display_name": "Python 3",
   "language": "python",
   "name": "python3"
  },
  "language_info": {
   "codemirror_mode": {
    "name": "ipython",
    "version": 3
   },
   "file_extension": ".py",
   "mimetype": "text/x-python",
   "name": "python",
   "nbconvert_exporter": "python",
   "pygments_lexer": "ipython3",
   "version": "3.7.6"
  }
 },
 "nbformat": 4,
 "nbformat_minor": 4
}
