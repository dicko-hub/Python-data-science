{
 "cells": [
  {
   "cell_type": "code",
   "execution_count": 11,
   "metadata": {},
   "outputs": [],
   "source": [
    "import pandas as pd\n",
    "from pandas import Series\n",
    "import numpy as np"
   ]
  },
  {
   "cell_type": "code",
   "execution_count": 2,
   "metadata": {},
   "outputs": [
    {
     "data": {
      "text/html": [
       "<div>\n",
       "<style scoped>\n",
       "    .dataframe tbody tr th:only-of-type {\n",
       "        vertical-align: middle;\n",
       "    }\n",
       "\n",
       "    .dataframe tbody tr th {\n",
       "        vertical-align: top;\n",
       "    }\n",
       "\n",
       "    .dataframe thead th {\n",
       "        text-align: right;\n",
       "    }\n",
       "</style>\n",
       "<table border=\"1\" class=\"dataframe\">\n",
       "  <thead>\n",
       "    <tr style=\"text-align: right;\">\n",
       "      <th></th>\n",
       "      <th>FILM</th>\n",
       "      <th>RottenTomatoes</th>\n",
       "      <th>RottenTomatoes_User</th>\n",
       "      <th>Metacritic</th>\n",
       "      <th>Metacritic_User</th>\n",
       "      <th>IMDB</th>\n",
       "      <th>Fandango_Stars</th>\n",
       "      <th>Fandango_Ratingvalue</th>\n",
       "      <th>RT_norm</th>\n",
       "      <th>RT_user_norm</th>\n",
       "      <th>...</th>\n",
       "      <th>IMDB_norm</th>\n",
       "      <th>RT_norm_round</th>\n",
       "      <th>RT_user_norm_round</th>\n",
       "      <th>Metacritic_norm_round</th>\n",
       "      <th>Metacritic_user_norm_round</th>\n",
       "      <th>IMDB_norm_round</th>\n",
       "      <th>Metacritic_user_vote_count</th>\n",
       "      <th>IMDB_user_vote_count</th>\n",
       "      <th>Fandango_votes</th>\n",
       "      <th>Fandango_Difference</th>\n",
       "    </tr>\n",
       "  </thead>\n",
       "  <tbody>\n",
       "    <tr>\n",
       "      <th>0</th>\n",
       "      <td>Avengers: Age of Ultron (2015)</td>\n",
       "      <td>74</td>\n",
       "      <td>86</td>\n",
       "      <td>66</td>\n",
       "      <td>7.1</td>\n",
       "      <td>7.8</td>\n",
       "      <td>5.0</td>\n",
       "      <td>4.5</td>\n",
       "      <td>3.70</td>\n",
       "      <td>4.3</td>\n",
       "      <td>...</td>\n",
       "      <td>3.90</td>\n",
       "      <td>3.5</td>\n",
       "      <td>4.5</td>\n",
       "      <td>3.5</td>\n",
       "      <td>3.5</td>\n",
       "      <td>4.0</td>\n",
       "      <td>1330</td>\n",
       "      <td>271107</td>\n",
       "      <td>14846</td>\n",
       "      <td>0.5</td>\n",
       "    </tr>\n",
       "    <tr>\n",
       "      <th>1</th>\n",
       "      <td>Cinderella (2015)</td>\n",
       "      <td>85</td>\n",
       "      <td>80</td>\n",
       "      <td>67</td>\n",
       "      <td>7.5</td>\n",
       "      <td>7.1</td>\n",
       "      <td>5.0</td>\n",
       "      <td>4.5</td>\n",
       "      <td>4.25</td>\n",
       "      <td>4.0</td>\n",
       "      <td>...</td>\n",
       "      <td>3.55</td>\n",
       "      <td>4.5</td>\n",
       "      <td>4.0</td>\n",
       "      <td>3.5</td>\n",
       "      <td>4.0</td>\n",
       "      <td>3.5</td>\n",
       "      <td>249</td>\n",
       "      <td>65709</td>\n",
       "      <td>12640</td>\n",
       "      <td>0.5</td>\n",
       "    </tr>\n",
       "  </tbody>\n",
       "</table>\n",
       "<p>2 rows × 22 columns</p>\n",
       "</div>"
      ],
      "text/plain": [
       "                             FILM  RottenTomatoes  RottenTomatoes_User  \\\n",
       "0  Avengers: Age of Ultron (2015)              74                   86   \n",
       "1               Cinderella (2015)              85                   80   \n",
       "\n",
       "   Metacritic  Metacritic_User  IMDB  Fandango_Stars  Fandango_Ratingvalue  \\\n",
       "0          66              7.1   7.8             5.0                   4.5   \n",
       "1          67              7.5   7.1             5.0                   4.5   \n",
       "\n",
       "   RT_norm  RT_user_norm  ...  IMDB_norm  RT_norm_round  RT_user_norm_round  \\\n",
       "0     3.70           4.3  ...       3.90            3.5                 4.5   \n",
       "1     4.25           4.0  ...       3.55            4.5                 4.0   \n",
       "\n",
       "   Metacritic_norm_round  Metacritic_user_norm_round  IMDB_norm_round  \\\n",
       "0                    3.5                         3.5              4.0   \n",
       "1                    3.5                         4.0              3.5   \n",
       "\n",
       "   Metacritic_user_vote_count  IMDB_user_vote_count  Fandango_votes  \\\n",
       "0                        1330                271107           14846   \n",
       "1                         249                 65709           12640   \n",
       "\n",
       "   Fandango_Difference  \n",
       "0                  0.5  \n",
       "1                  0.5  \n",
       "\n",
       "[2 rows x 22 columns]"
      ]
     },
     "execution_count": 2,
     "metadata": {},
     "output_type": "execute_result"
    }
   ],
   "source": [
    "fandango = pd.read_csv(\"Fandango_score_comparison.csv\")\n",
    "fandango.head(2)"
   ]
  },
  {
   "cell_type": "markdown",
   "metadata": {},
   "source": [
    "### indexation avec des entiers"
   ]
  },
  {
   "cell_type": "code",
   "execution_count": 3,
   "metadata": {},
   "outputs": [
    {
     "data": {
      "text/plain": [
       "0    Avengers: Age of Ultron (2015)\n",
       "1                 Cinderella (2015)\n",
       "2                    Ant-Man (2015)\n",
       "3            Do You Believe? (2015)\n",
       "4     Hot Tub Time Machine 2 (2015)\n",
       "Name: FILM, dtype: object"
      ]
     },
     "execution_count": 3,
     "metadata": {},
     "output_type": "execute_result"
    }
   ],
   "source": [
    "series_film = fandango[\"FILM\"]\n",
    "series_film.head()"
   ]
  },
  {
   "cell_type": "code",
   "execution_count": 4,
   "metadata": {},
   "outputs": [
    {
     "data": {
      "text/plain": [
       "0    74\n",
       "1    85\n",
       "2    80\n",
       "3    18\n",
       "4    14\n",
       "Name: RottenTomatoes, dtype: int64"
      ]
     },
     "execution_count": 4,
     "metadata": {},
     "output_type": "execute_result"
    }
   ],
   "source": [
    "series_rt = fandango[\"RottenTomatoes\"]\n",
    "series_rt[0:5]"
   ]
  },
  {
   "cell_type": "markdown",
   "metadata": {},
   "source": [
    "### Personnaliser son indexage"
   ]
  },
  {
   "cell_type": "code",
   "execution_count": 5,
   "metadata": {},
   "outputs": [],
   "source": [
    "# series(data,index)\n",
    "film_names = series_film.values # critere de recherches : index\n",
    "rt_scores = series_rt.values  # données à rétourner : data\n",
    "\n",
    "series_custom = Series(rt_scores,index = film_names)\n",
    "\n",
    "# on vient de créer une recherche sur rt_score à partir du nom d'un film"
   ]
  },
  {
   "cell_type": "code",
   "execution_count": 6,
   "metadata": {},
   "outputs": [
    {
     "data": {
      "text/plain": [
       "Ant-Man (2015)    80\n",
       "dtype: int64"
      ]
     },
     "execution_count": 6,
     "metadata": {},
     "output_type": "execute_result"
    }
   ],
   "source": [
    "series_custom[[\"Ant-Man (2015)\"]]"
   ]
  },
  {
   "cell_type": "markdown",
   "metadata": {},
   "source": [
    "### Réindexer un objet series"
   ]
  },
  {
   "cell_type": "code",
   "execution_count": 7,
   "metadata": {},
   "outputs": [
    {
     "data": {
      "text/plain": [
       "'71 (2015)                    97\n",
       "5 Flights Up (2015)           52\n",
       "A Little Chaos (2015)         40\n",
       "A Most Violent Year (2014)    90\n",
       "About Elly (2015)             97\n",
       "dtype: int64"
      ]
     },
     "execution_count": 7,
     "metadata": {},
     "output_type": "execute_result"
    }
   ],
   "source": [
    "# reindex(nouvel_liste_index)\n",
    "original_index = series_custom.index\n",
    "sorted_index = sorted(original_index)\n",
    "sorted_by_index = series_custom.reindex(sorted_index)\n",
    "sorted_by_index.head()"
   ]
  },
  {
   "cell_type": "markdown",
   "metadata": {},
   "source": [
    "### Trier un object series"
   ]
  },
  {
   "cell_type": "code",
   "execution_count": 8,
   "metadata": {},
   "outputs": [
    {
     "data": {
      "text/plain": [
       "Paul Blart: Mall Cop 2 (2015)     5\n",
       "Hitman: Agent 47 (2015)           7\n",
       "Hot Pursuit (2015)                8\n",
       "Fantastic Four (2015)             9\n",
       "Taken 3 (2015)                    9\n",
       "The Boy Next Door (2015)         10\n",
       "The Loft (2015)                  11\n",
       "Unfinished Business (2015)       11\n",
       "Mortdecai (2015)                 12\n",
       "Seventh Son (2015)               12\n",
       "dtype: int64"
      ]
     },
     "execution_count": 8,
     "metadata": {},
     "output_type": "execute_result"
    }
   ],
   "source": [
    "# series.sort_index() , series.sort_values()\n",
    "sc2 = series_custom.sort_index()\n",
    "sc3= series_custom.sort_values()\n",
    "sc3[0:10]"
   ]
  },
  {
   "cell_type": "code",
   "execution_count": 9,
   "metadata": {},
   "outputs": [
    {
     "data": {
      "text/plain": [
       "'71 (2015)                    97\n",
       "5 Flights Up (2015)           52\n",
       "A Little Chaos (2015)         40\n",
       "A Most Violent Year (2014)    90\n",
       "About Elly (2015)             97\n",
       "Aloha (2015)                  19\n",
       "American Sniper (2015)        72\n",
       "American Ultra (2015)         46\n",
       "Amy (2015)                    97\n",
       "Annie (2014)                  27\n",
       "dtype: int64"
      ]
     },
     "execution_count": 9,
     "metadata": {},
     "output_type": "execute_result"
    }
   ],
   "source": [
    "sc2[0:10]"
   ]
  },
  {
   "cell_type": "markdown",
   "metadata": {},
   "source": [
    "### Transformation de colonnes"
   ]
  },
  {
   "cell_type": "code",
   "execution_count": 10,
   "metadata": {},
   "outputs": [
    {
     "data": {
      "text/plain": [
       "Avengers: Age of Ultron (2015)               3.70\n",
       "Cinderella (2015)                            4.25\n",
       "Ant-Man (2015)                               4.00\n",
       "Do You Believe? (2015)                       0.90\n",
       "Hot Tub Time Machine 2 (2015)                0.70\n",
       "                                             ... \n",
       "Mr. Holmes (2015)                            4.35\n",
       "'71 (2015)                                   4.85\n",
       "Two Days, One Night (2014)                   4.85\n",
       "Gett: The Trial of Viviane Amsalem (2015)    5.00\n",
       "Kumiko, The Treasure Hunter (2015)           4.35\n",
       "Length: 146, dtype: float64"
      ]
     },
     "execution_count": 10,
     "metadata": {},
     "output_type": "execute_result"
    }
   ],
   "source": [
    "# Normlisé la series_custom \n",
    "series_normalized = series_custom / 20\n",
    "series_normalized"
   ]
  },
  {
   "cell_type": "markdown",
   "metadata": {},
   "source": [
    "### Comparer et filtrer"
   ]
  },
  {
   "cell_type": "code",
   "execution_count": 15,
   "metadata": {},
   "outputs": [
    {
     "data": {
      "text/plain": [
       "The Water Diviner (2015)                                                  63\n",
       "Unbroken (2014)                                                           51\n",
       "Southpaw (2015)                                                           59\n",
       "Insidious: Chapter 3 (2015)                                               59\n",
       "The Man From U.N.C.L.E. (2015)                                            68\n",
       "Run All Night (2015)                                                      60\n",
       "5 Flights Up (2015)                                                       52\n",
       "Saint Laurent (2015)                                                      51\n",
       "Maps to the Stars (2015)                                                  60\n",
       "Pitch Perfect 2 (2015)                                                    67\n",
       "The Age of Adaline (2015)                                                 54\n",
       "Ricki and the Flash (2015)                                                64\n",
       "Unfriended (2015)                                                         60\n",
       "The Hobbit: The Battle of the Five Armies (2014)                          61\n",
       "Paper Towns (2015)                                                        55\n",
       "Maggie (2015)                                                             54\n",
       "Focus (2015)                                                              57\n",
       "The Second Best Exotic Marigold Hotel (2015)                              62\n",
       "The 100-Year-Old Man Who Climbed Out the Window and Disappeared (2015)    67\n",
       "Escobar: Paradise Lost (2015)                                             52\n",
       "Magic Mike XXL (2015)                                                     62\n",
       "Woman in Gold (2015)                                                      52\n",
       "The Last Five Years (2015)                                                60\n",
       "Minions (2015)                                                            54\n",
       "Spare Parts (2015)                                                        52\n",
       "dtype: int64"
      ]
     },
     "execution_count": 15,
     "metadata": {},
     "output_type": "execute_result"
    }
   ],
   "source": [
    "criteria_one = series_custom > 50\n",
    "criteria_two = series_custom < 70\n",
    "both_criteria = series_custom[criteria_one & criteria_two]\n",
    "both_criteria"
   ]
  },
  {
   "cell_type": "markdown",
   "metadata": {},
   "source": [
    "### Alignement des données"
   ]
  },
  {
   "cell_type": "code",
   "execution_count": 17,
   "metadata": {},
   "outputs": [
    {
     "data": {
      "text/plain": [
       "Avengers: Age of Ultron (2015)    74\n",
       "Cinderella (2015)                 85\n",
       "Ant-Man (2015)                    80\n",
       "Do You Believe? (2015)            18\n",
       "Hot Tub Time Machine 2 (2015)     14\n",
       "dtype: int64"
      ]
     },
     "execution_count": 17,
     "metadata": {},
     "output_type": "execute_result"
    }
   ],
   "source": [
    "# series à partir des notes du site\n",
    "rt_critics = Series(fandango[\"RottenTomatoes\"].values, index = fandango[\"FILM\"].values)\n",
    "rt_critics.head()"
   ]
  },
  {
   "cell_type": "code",
   "execution_count": 19,
   "metadata": {},
   "outputs": [
    {
     "data": {
      "text/plain": [
       "Avengers: Age of Ultron (2015)    86\n",
       "Cinderella (2015)                 80\n",
       "Ant-Man (2015)                    90\n",
       "Do You Believe? (2015)            84\n",
       "Hot Tub Time Machine 2 (2015)     28\n",
       "dtype: int64"
      ]
     },
     "execution_count": 19,
     "metadata": {},
     "output_type": "execute_result"
    }
   ],
   "source": [
    "# series à partir des notes users\n",
    "rt_users = Series(fandango[\"RottenTomatoes_User\"].values, index = fandango[\"FILM\"].values)\n",
    "rt_users.head()"
   ]
  },
  {
   "cell_type": "code",
   "execution_count": 20,
   "metadata": {},
   "outputs": [
    {
     "data": {
      "text/plain": [
       "Avengers: Age of Ultron (2015)    80.0\n",
       "Cinderella (2015)                 82.5\n",
       "Ant-Man (2015)                    85.0\n",
       "Do You Believe? (2015)            51.0\n",
       "Hot Tub Time Machine 2 (2015)     21.0\n",
       "dtype: float64"
      ]
     },
     "execution_count": 20,
     "metadata": {},
     "output_type": "execute_result"
    }
   ],
   "source": [
    "# les deux series contiennent les mêmes clés : nom de film on fait donc une moyenne\n",
    "rt_mean = (rt_critics + rt_users) / 2\n",
    "rt_mean.head()"
   ]
  },
  {
   "cell_type": "code",
   "execution_count": null,
   "metadata": {},
   "outputs": [],
   "source": []
  }
 ],
 "metadata": {
  "kernelspec": {
   "display_name": "Python 3",
   "language": "python",
   "name": "python3"
  },
  "language_info": {
   "codemirror_mode": {
    "name": "ipython",
    "version": 3
   },
   "file_extension": ".py",
   "mimetype": "text/x-python",
   "name": "python",
   "nbconvert_exporter": "python",
   "pygments_lexer": "ipython3",
   "version": "3.7.6"
  }
 },
 "nbformat": 4,
 "nbformat_minor": 4
}
